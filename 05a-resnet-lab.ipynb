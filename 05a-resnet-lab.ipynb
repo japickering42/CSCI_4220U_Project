{
 "cells": [
  {
   "cell_type": "markdown",
   "id": "e051896c-75e7-4d39-93f1-de1498428340",
   "metadata": {},
   "source": [
    "<center>\n",
    "    <tr>\n",
    "    <td><img src=\"ontario-tech-univ-logo.png\" width=\"25%\"></img></td>\n",
    "    </tr>\n",
    "</center>"
   ]
  },
  {
   "cell_type": "markdown",
   "id": "6403885e-9263-4d54-8b45-4c24f8f45c36",
   "metadata": {},
   "source": [
    "# ResNet to the Rescue\n",
    "\n",
    "Faisal Qureshi   \n",
    "Professor    \n",
    "Faculty of Science    \n",
    "Ontario Tech University    \n",
    "Oshawa ON Canada    \n",
    "http://vclab.science.ontariotechu.ca"
   ]
  },
  {
   "cell_type": "markdown",
   "id": "35907a9d-a37e-4972-b052-999a018e8459",
   "metadata": {},
   "source": [
    "## Copyright information\n",
    "\n",
    "&copy; Faisal Qureshi"
   ]
  },
  {
   "cell_type": "markdown",
   "id": "57272567-9ecd-46db-8e4a-728ab3238c45",
   "metadata": {},
   "source": [
    "## License\n",
    "\n",
    "<a rel=\"license\" href=\"http://creativecommons.org/licenses/by-nc/4.0/\"><img alt=\"Creative Commons Licence\" style=\"border-width:0\" src=\"https://i.creativecommons.org/l/by-nc/4.0/88x31.png\" /></a><br />This work is licensed under a <a rel=\"license\" href=\"http://creativecommons.org/licenses/by-nc/4.0/\">Creative Commons Attribution-NonCommercial 4.0 International License</a>."
   ]
  },
  {
   "cell_type": "markdown",
   "id": "bb59f095-bc5b-4da4-a108-62cbe53c596e",
   "metadata": {},
   "source": [
    "## Tasks\n",
    "\n",
    "The goal of this work is to use a pre-trained ResNet model to perform \"custom computer vision tasks.\"\n",
    "\n",
    "Specifically, we will use a ResNet pretrained on ImageNet to perform classification on CIFAR10 dataset.  Recall that the ImageNet model has 1000 classes; where as, the CIFAR10 has only 10 classes.  This means that we cannot use ResNet model out of the box.  We will replace the classification head in the pretrained model.  We will also have to then retrain the classification head.\n",
    "\n",
    "1. Download a pretrained ResNet model from `timm`\n",
    "2. Replace the *classifier head*, i.e., the \"fc\" layer with our own.\n",
    "3. Setup PyTorch Lightning to train the model.  We will only train the \"fc\" layer.\n",
    "\n",
    "<p style=\"color: red;\">\n",
    "Go to the end of this notebook to see what you need to submit.\n",
    "</p>"
   ]
  },
  {
   "cell_type": "markdown",
   "id": "351fc216-ae0d-4c39-a0b8-04fbd190f03b",
   "metadata": {},
   "source": [
    "## Get a pretrained ResNet model\n",
    "\n",
    "Install `timm`.  Check [https://timm.fast.ai/](https://timm.fast.ai/) for information about `timm`: a deep learning library that contains SOTA computer vision models."
   ]
  },
  {
   "cell_type": "code",
   "execution_count": 1,
   "id": "b73d023c-1e17-4acf-82a1-19a6b29d5544",
   "metadata": {},
   "outputs": [],
   "source": [
    "!pip install --quiet timm\n",
    "!pip install --quiet jupyterlab-widgets\n",
    "!pip install --quiet ipywidgets"
   ]
  },
  {
   "cell_type": "code",
   "execution_count": 2,
   "id": "aecc44d7-46ec-49ff-911e-2a6fd0335b3d",
   "metadata": {},
   "outputs": [],
   "source": [
    "import timm\n",
    "import torch"
   ]
  },
  {
   "cell_type": "markdown",
   "id": "8705a164-ec64-4d35-9aca-01b47801c949",
   "metadata": {},
   "source": [
    "### Models available in `timm`\n",
    "\n",
    "`timm` stands for Pytorch Image Models and it contains tons of computer vision deep learning models"
   ]
  },
  {
   "cell_type": "code",
   "execution_count": 3,
   "id": "59d75290-711e-47b2-a52b-8ca5a7ba9476",
   "metadata": {},
   "outputs": [
    {
     "data": {
      "text/plain": [
       "(1599,\n",
       " ['aimv2_1b_patch14_224.apple_pt',\n",
       "  'aimv2_1b_patch14_336.apple_pt',\n",
       "  'aimv2_1b_patch14_448.apple_pt',\n",
       "  'aimv2_3b_patch14_224.apple_pt',\n",
       "  'aimv2_3b_patch14_336.apple_pt',\n",
       "  'aimv2_3b_patch14_448.apple_pt',\n",
       "  'aimv2_huge_patch14_224.apple_pt',\n",
       "  'aimv2_huge_patch14_336.apple_pt',\n",
       "  'aimv2_huge_patch14_448.apple_pt',\n",
       "  'aimv2_large_patch14_224.apple_pt'])"
      ]
     },
     "execution_count": 3,
     "metadata": {},
     "output_type": "execute_result"
    }
   ],
   "source": [
    "# set the following to true to find\n",
    "# the list of pretrained models only\n",
    "pretrained = True\n",
    "\n",
    "avail_models = timm.list_models(pretrained=pretrained)\n",
    "len(avail_models), avail_models[:10]"
   ]
  },
  {
   "cell_type": "markdown",
   "id": "98cccf11-af99-4b2c-a19d-dda231600ffc",
   "metadata": {},
   "source": [
    "### Searching models\n",
    "\n",
    "You can also search models as follows"
   ]
  },
  {
   "cell_type": "code",
   "execution_count": 4,
   "id": "40750e7b-243d-4e59-9013-a52c86bdc011",
   "metadata": {},
   "outputs": [
    {
     "data": {
      "text/plain": [
       "['resnet10t.c3_in1k',\n",
       " 'resnet14t.c3_in1k',\n",
       " 'resnet18.a1_in1k',\n",
       " 'resnet18.a2_in1k',\n",
       " 'resnet18.a3_in1k',\n",
       " 'resnet18.fb_ssl_yfcc100m_ft_in1k',\n",
       " 'resnet18.fb_swsl_ig1b_ft_in1k',\n",
       " 'resnet18.gluon_in1k',\n",
       " 'resnet18.tv_in1k',\n",
       " 'resnet18d.ra2_in1k']"
      ]
     },
     "execution_count": 4,
     "metadata": {},
     "output_type": "execute_result"
    }
   ],
   "source": [
    "timm.list_models('resnet*', pretrained=pretrained)[:10]"
   ]
  },
  {
   "cell_type": "markdown",
   "id": "fe4876a1-96c3-4648-9cb6-3254e566cdd7",
   "metadata": {},
   "source": [
    "### Getting pretrained ResNet"
   ]
  },
  {
   "cell_type": "code",
   "execution_count": 5,
   "id": "71ac05c4-e2e8-4352-95b3-ab518af272b8",
   "metadata": {},
   "outputs": [],
   "source": [
    "resnet = timm.create_model('resnet34', pretrained=True)"
   ]
  },
  {
   "cell_type": "code",
   "execution_count": 6,
   "id": "caa10e28-6e11-4535-badd-3b358c9db0dc",
   "metadata": {},
   "outputs": [
    {
     "name": "stdout",
     "output_type": "stream",
     "text": [
      "Model information:\n"
     ]
    },
    {
     "data": {
      "text/plain": [
       "{'url': 'https://github.com/huggingface/pytorch-image-models/releases/download/v0.1-rsb-weights/resnet34_a1_0-46f8f793.pth',\n",
       " 'hf_hub_id': 'timm/resnet34.a1_in1k',\n",
       " 'architecture': 'resnet34',\n",
       " 'tag': 'a1_in1k',\n",
       " 'custom_load': False,\n",
       " 'input_size': (3, 224, 224),\n",
       " 'test_input_size': (3, 288, 288),\n",
       " 'fixed_input_size': False,\n",
       " 'interpolation': 'bicubic',\n",
       " 'crop_pct': 0.95,\n",
       " 'test_crop_pct': 1.0,\n",
       " 'crop_mode': 'center',\n",
       " 'mean': (0.485, 0.456, 0.406),\n",
       " 'std': (0.229, 0.224, 0.225),\n",
       " 'num_classes': 1000,\n",
       " 'pool_size': (7, 7),\n",
       " 'first_conv': 'conv1',\n",
       " 'classifier': 'fc',\n",
       " 'origin_url': 'https://github.com/huggingface/pytorch-image-models',\n",
       " 'paper_ids': 'arXiv:2110.00476'}"
      ]
     },
     "execution_count": 6,
     "metadata": {},
     "output_type": "execute_result"
    }
   ],
   "source": [
    "print('Model information:')\n",
    "\n",
    "# Uncomment the following to print out the model.\n",
    "# Recall that it is simply a PyTorch model.\n",
    "#resnet\n",
    "\n",
    "# Or better acces the config as follows\n",
    "resnet.default_cfg"
   ]
  },
  {
   "cell_type": "markdown",
   "id": "f0841798-d0cd-4edd-b380-c71bf2b6ad28",
   "metadata": {},
   "source": [
    "### Using ResNet for our task\n",
    "\n",
    "This model was trained on ImageNet, which as 1000 classes."
   ]
  },
  {
   "cell_type": "code",
   "execution_count": 7,
   "id": "398b6baf-890a-4af0-b30f-86561cf74e9f",
   "metadata": {},
   "outputs": [
    {
     "data": {
      "text/plain": [
       "Linear(in_features=512, out_features=1000, bias=True)"
      ]
     },
     "execution_count": 7,
     "metadata": {},
     "output_type": "execute_result"
    }
   ],
   "source": [
    "resnet.get_classifier()"
   ]
  },
  {
   "cell_type": "markdown",
   "id": "5ba61fb6-e800-45d6-80d1-0b87e47905f6",
   "metadata": {},
   "source": [
    "#### Swapping out the classifier\n",
    "\n",
    "We want to use this model for the task of classifying Cifar images.  Cifar has 10 classes only.  This suggests that we cannot use this model out of the box.  \n",
    "\n",
    "We will replace the classification head (the fully-connected classifier layer with 1000 outputs)."
   ]
  },
  {
   "cell_type": "code",
   "execution_count": 8,
   "id": "5a8d429e-a79e-4db6-8b62-eb56d5ab3144",
   "metadata": {},
   "outputs": [
    {
     "data": {
      "text/plain": [
       "Linear(in_features=512, out_features=10, bias=True)"
      ]
     },
     "execution_count": 8,
     "metadata": {},
     "output_type": "execute_result"
    }
   ],
   "source": [
    "resnet_cifar = timm.create_model('resnet34', pretrained=True, num_classes=10)\n",
    "resnet_cifar.get_classifier()"
   ]
  },
  {
   "cell_type": "markdown",
   "id": "b489203f-e7ff-4f05-be9c-6c83d20c9780",
   "metadata": {},
   "source": [
    "Let's inspect the model"
   ]
  },
  {
   "cell_type": "code",
   "execution_count": 9,
   "id": "09e8ad05-3d5c-4bf0-a92a-81feaf717138",
   "metadata": {},
   "outputs": [
    {
     "data": {
      "text/plain": [
       "ResNet(\n",
       "  (conv1): Conv2d(3, 64, kernel_size=(7, 7), stride=(2, 2), padding=(3, 3), bias=False)\n",
       "  (bn1): BatchNorm2d(64, eps=1e-05, momentum=0.1, affine=True, track_running_stats=True)\n",
       "  (act1): ReLU(inplace=True)\n",
       "  (maxpool): MaxPool2d(kernel_size=3, stride=2, padding=1, dilation=1, ceil_mode=False)\n",
       "  (layer1): Sequential(\n",
       "    (0): BasicBlock(\n",
       "      (conv1): Conv2d(64, 64, kernel_size=(3, 3), stride=(1, 1), padding=(1, 1), bias=False)\n",
       "      (bn1): BatchNorm2d(64, eps=1e-05, momentum=0.1, affine=True, track_running_stats=True)\n",
       "      (drop_block): Identity()\n",
       "      (act1): ReLU(inplace=True)\n",
       "      (aa): Identity()\n",
       "      (conv2): Conv2d(64, 64, kernel_size=(3, 3), stride=(1, 1), padding=(1, 1), bias=False)\n",
       "      (bn2): BatchNorm2d(64, eps=1e-05, momentum=0.1, affine=True, track_running_stats=True)\n",
       "      (act2): ReLU(inplace=True)\n",
       "    )\n",
       "    (1): BasicBlock(\n",
       "      (conv1): Conv2d(64, 64, kernel_size=(3, 3), stride=(1, 1), padding=(1, 1), bias=False)\n",
       "      (bn1): BatchNorm2d(64, eps=1e-05, momentum=0.1, affine=True, track_running_stats=True)\n",
       "      (drop_block): Identity()\n",
       "      (act1): ReLU(inplace=True)\n",
       "      (aa): Identity()\n",
       "      (conv2): Conv2d(64, 64, kernel_size=(3, 3), stride=(1, 1), padding=(1, 1), bias=False)\n",
       "      (bn2): BatchNorm2d(64, eps=1e-05, momentum=0.1, affine=True, track_running_stats=True)\n",
       "      (act2): ReLU(inplace=True)\n",
       "    )\n",
       "    (2): BasicBlock(\n",
       "      (conv1): Conv2d(64, 64, kernel_size=(3, 3), stride=(1, 1), padding=(1, 1), bias=False)\n",
       "      (bn1): BatchNorm2d(64, eps=1e-05, momentum=0.1, affine=True, track_running_stats=True)\n",
       "      (drop_block): Identity()\n",
       "      (act1): ReLU(inplace=True)\n",
       "      (aa): Identity()\n",
       "      (conv2): Conv2d(64, 64, kernel_size=(3, 3), stride=(1, 1), padding=(1, 1), bias=False)\n",
       "      (bn2): BatchNorm2d(64, eps=1e-05, momentum=0.1, affine=True, track_running_stats=True)\n",
       "      (act2): ReLU(inplace=True)\n",
       "    )\n",
       "  )\n",
       "  (layer2): Sequential(\n",
       "    (0): BasicBlock(\n",
       "      (conv1): Conv2d(64, 128, kernel_size=(3, 3), stride=(2, 2), padding=(1, 1), bias=False)\n",
       "      (bn1): BatchNorm2d(128, eps=1e-05, momentum=0.1, affine=True, track_running_stats=True)\n",
       "      (drop_block): Identity()\n",
       "      (act1): ReLU(inplace=True)\n",
       "      (aa): Identity()\n",
       "      (conv2): Conv2d(128, 128, kernel_size=(3, 3), stride=(1, 1), padding=(1, 1), bias=False)\n",
       "      (bn2): BatchNorm2d(128, eps=1e-05, momentum=0.1, affine=True, track_running_stats=True)\n",
       "      (act2): ReLU(inplace=True)\n",
       "      (downsample): Sequential(\n",
       "        (0): Conv2d(64, 128, kernel_size=(1, 1), stride=(2, 2), bias=False)\n",
       "        (1): BatchNorm2d(128, eps=1e-05, momentum=0.1, affine=True, track_running_stats=True)\n",
       "      )\n",
       "    )\n",
       "    (1): BasicBlock(\n",
       "      (conv1): Conv2d(128, 128, kernel_size=(3, 3), stride=(1, 1), padding=(1, 1), bias=False)\n",
       "      (bn1): BatchNorm2d(128, eps=1e-05, momentum=0.1, affine=True, track_running_stats=True)\n",
       "      (drop_block): Identity()\n",
       "      (act1): ReLU(inplace=True)\n",
       "      (aa): Identity()\n",
       "      (conv2): Conv2d(128, 128, kernel_size=(3, 3), stride=(1, 1), padding=(1, 1), bias=False)\n",
       "      (bn2): BatchNorm2d(128, eps=1e-05, momentum=0.1, affine=True, track_running_stats=True)\n",
       "      (act2): ReLU(inplace=True)\n",
       "    )\n",
       "    (2): BasicBlock(\n",
       "      (conv1): Conv2d(128, 128, kernel_size=(3, 3), stride=(1, 1), padding=(1, 1), bias=False)\n",
       "      (bn1): BatchNorm2d(128, eps=1e-05, momentum=0.1, affine=True, track_running_stats=True)\n",
       "      (drop_block): Identity()\n",
       "      (act1): ReLU(inplace=True)\n",
       "      (aa): Identity()\n",
       "      (conv2): Conv2d(128, 128, kernel_size=(3, 3), stride=(1, 1), padding=(1, 1), bias=False)\n",
       "      (bn2): BatchNorm2d(128, eps=1e-05, momentum=0.1, affine=True, track_running_stats=True)\n",
       "      (act2): ReLU(inplace=True)\n",
       "    )\n",
       "    (3): BasicBlock(\n",
       "      (conv1): Conv2d(128, 128, kernel_size=(3, 3), stride=(1, 1), padding=(1, 1), bias=False)\n",
       "      (bn1): BatchNorm2d(128, eps=1e-05, momentum=0.1, affine=True, track_running_stats=True)\n",
       "      (drop_block): Identity()\n",
       "      (act1): ReLU(inplace=True)\n",
       "      (aa): Identity()\n",
       "      (conv2): Conv2d(128, 128, kernel_size=(3, 3), stride=(1, 1), padding=(1, 1), bias=False)\n",
       "      (bn2): BatchNorm2d(128, eps=1e-05, momentum=0.1, affine=True, track_running_stats=True)\n",
       "      (act2): ReLU(inplace=True)\n",
       "    )\n",
       "  )\n",
       "  (layer3): Sequential(\n",
       "    (0): BasicBlock(\n",
       "      (conv1): Conv2d(128, 256, kernel_size=(3, 3), stride=(2, 2), padding=(1, 1), bias=False)\n",
       "      (bn1): BatchNorm2d(256, eps=1e-05, momentum=0.1, affine=True, track_running_stats=True)\n",
       "      (drop_block): Identity()\n",
       "      (act1): ReLU(inplace=True)\n",
       "      (aa): Identity()\n",
       "      (conv2): Conv2d(256, 256, kernel_size=(3, 3), stride=(1, 1), padding=(1, 1), bias=False)\n",
       "      (bn2): BatchNorm2d(256, eps=1e-05, momentum=0.1, affine=True, track_running_stats=True)\n",
       "      (act2): ReLU(inplace=True)\n",
       "      (downsample): Sequential(\n",
       "        (0): Conv2d(128, 256, kernel_size=(1, 1), stride=(2, 2), bias=False)\n",
       "        (1): BatchNorm2d(256, eps=1e-05, momentum=0.1, affine=True, track_running_stats=True)\n",
       "      )\n",
       "    )\n",
       "    (1): BasicBlock(\n",
       "      (conv1): Conv2d(256, 256, kernel_size=(3, 3), stride=(1, 1), padding=(1, 1), bias=False)\n",
       "      (bn1): BatchNorm2d(256, eps=1e-05, momentum=0.1, affine=True, track_running_stats=True)\n",
       "      (drop_block): Identity()\n",
       "      (act1): ReLU(inplace=True)\n",
       "      (aa): Identity()\n",
       "      (conv2): Conv2d(256, 256, kernel_size=(3, 3), stride=(1, 1), padding=(1, 1), bias=False)\n",
       "      (bn2): BatchNorm2d(256, eps=1e-05, momentum=0.1, affine=True, track_running_stats=True)\n",
       "      (act2): ReLU(inplace=True)\n",
       "    )\n",
       "    (2): BasicBlock(\n",
       "      (conv1): Conv2d(256, 256, kernel_size=(3, 3), stride=(1, 1), padding=(1, 1), bias=False)\n",
       "      (bn1): BatchNorm2d(256, eps=1e-05, momentum=0.1, affine=True, track_running_stats=True)\n",
       "      (drop_block): Identity()\n",
       "      (act1): ReLU(inplace=True)\n",
       "      (aa): Identity()\n",
       "      (conv2): Conv2d(256, 256, kernel_size=(3, 3), stride=(1, 1), padding=(1, 1), bias=False)\n",
       "      (bn2): BatchNorm2d(256, eps=1e-05, momentum=0.1, affine=True, track_running_stats=True)\n",
       "      (act2): ReLU(inplace=True)\n",
       "    )\n",
       "    (3): BasicBlock(\n",
       "      (conv1): Conv2d(256, 256, kernel_size=(3, 3), stride=(1, 1), padding=(1, 1), bias=False)\n",
       "      (bn1): BatchNorm2d(256, eps=1e-05, momentum=0.1, affine=True, track_running_stats=True)\n",
       "      (drop_block): Identity()\n",
       "      (act1): ReLU(inplace=True)\n",
       "      (aa): Identity()\n",
       "      (conv2): Conv2d(256, 256, kernel_size=(3, 3), stride=(1, 1), padding=(1, 1), bias=False)\n",
       "      (bn2): BatchNorm2d(256, eps=1e-05, momentum=0.1, affine=True, track_running_stats=True)\n",
       "      (act2): ReLU(inplace=True)\n",
       "    )\n",
       "    (4): BasicBlock(\n",
       "      (conv1): Conv2d(256, 256, kernel_size=(3, 3), stride=(1, 1), padding=(1, 1), bias=False)\n",
       "      (bn1): BatchNorm2d(256, eps=1e-05, momentum=0.1, affine=True, track_running_stats=True)\n",
       "      (drop_block): Identity()\n",
       "      (act1): ReLU(inplace=True)\n",
       "      (aa): Identity()\n",
       "      (conv2): Conv2d(256, 256, kernel_size=(3, 3), stride=(1, 1), padding=(1, 1), bias=False)\n",
       "      (bn2): BatchNorm2d(256, eps=1e-05, momentum=0.1, affine=True, track_running_stats=True)\n",
       "      (act2): ReLU(inplace=True)\n",
       "    )\n",
       "    (5): BasicBlock(\n",
       "      (conv1): Conv2d(256, 256, kernel_size=(3, 3), stride=(1, 1), padding=(1, 1), bias=False)\n",
       "      (bn1): BatchNorm2d(256, eps=1e-05, momentum=0.1, affine=True, track_running_stats=True)\n",
       "      (drop_block): Identity()\n",
       "      (act1): ReLU(inplace=True)\n",
       "      (aa): Identity()\n",
       "      (conv2): Conv2d(256, 256, kernel_size=(3, 3), stride=(1, 1), padding=(1, 1), bias=False)\n",
       "      (bn2): BatchNorm2d(256, eps=1e-05, momentum=0.1, affine=True, track_running_stats=True)\n",
       "      (act2): ReLU(inplace=True)\n",
       "    )\n",
       "  )\n",
       "  (layer4): Sequential(\n",
       "    (0): BasicBlock(\n",
       "      (conv1): Conv2d(256, 512, kernel_size=(3, 3), stride=(2, 2), padding=(1, 1), bias=False)\n",
       "      (bn1): BatchNorm2d(512, eps=1e-05, momentum=0.1, affine=True, track_running_stats=True)\n",
       "      (drop_block): Identity()\n",
       "      (act1): ReLU(inplace=True)\n",
       "      (aa): Identity()\n",
       "      (conv2): Conv2d(512, 512, kernel_size=(3, 3), stride=(1, 1), padding=(1, 1), bias=False)\n",
       "      (bn2): BatchNorm2d(512, eps=1e-05, momentum=0.1, affine=True, track_running_stats=True)\n",
       "      (act2): ReLU(inplace=True)\n",
       "      (downsample): Sequential(\n",
       "        (0): Conv2d(256, 512, kernel_size=(1, 1), stride=(2, 2), bias=False)\n",
       "        (1): BatchNorm2d(512, eps=1e-05, momentum=0.1, affine=True, track_running_stats=True)\n",
       "      )\n",
       "    )\n",
       "    (1): BasicBlock(\n",
       "      (conv1): Conv2d(512, 512, kernel_size=(3, 3), stride=(1, 1), padding=(1, 1), bias=False)\n",
       "      (bn1): BatchNorm2d(512, eps=1e-05, momentum=0.1, affine=True, track_running_stats=True)\n",
       "      (drop_block): Identity()\n",
       "      (act1): ReLU(inplace=True)\n",
       "      (aa): Identity()\n",
       "      (conv2): Conv2d(512, 512, kernel_size=(3, 3), stride=(1, 1), padding=(1, 1), bias=False)\n",
       "      (bn2): BatchNorm2d(512, eps=1e-05, momentum=0.1, affine=True, track_running_stats=True)\n",
       "      (act2): ReLU(inplace=True)\n",
       "    )\n",
       "    (2): BasicBlock(\n",
       "      (conv1): Conv2d(512, 512, kernel_size=(3, 3), stride=(1, 1), padding=(1, 1), bias=False)\n",
       "      (bn1): BatchNorm2d(512, eps=1e-05, momentum=0.1, affine=True, track_running_stats=True)\n",
       "      (drop_block): Identity()\n",
       "      (act1): ReLU(inplace=True)\n",
       "      (aa): Identity()\n",
       "      (conv2): Conv2d(512, 512, kernel_size=(3, 3), stride=(1, 1), padding=(1, 1), bias=False)\n",
       "      (bn2): BatchNorm2d(512, eps=1e-05, momentum=0.1, affine=True, track_running_stats=True)\n",
       "      (act2): ReLU(inplace=True)\n",
       "    )\n",
       "  )\n",
       "  (global_pool): SelectAdaptivePool2d(pool_type=avg, flatten=Flatten(start_dim=1, end_dim=-1))\n",
       "  (fc): Linear(in_features=512, out_features=10, bias=True)\n",
       ")"
      ]
     },
     "execution_count": 9,
     "metadata": {},
     "output_type": "execute_result"
    }
   ],
   "source": [
    "resnet_cifar"
   ]
  },
  {
   "cell_type": "code",
   "execution_count": 10,
   "id": "5bee06d8-a0d8-44e8-808f-3f9a679bd6f7",
   "metadata": {},
   "outputs": [],
   "source": [
    "import types\n",
    "import torch.nn as nn\n",
    "\n",
    "def get_classifier(self):\n",
    "    if isinstance(self.fc, nn.Linear):\n",
    "        return self.fc\n",
    "    elif isinstance(self.fc, nn.Sequential):\n",
    "        for layer in self.fc:\n",
    "            if isinstance(layer, nn.Linear):\n",
    "                return layer\n",
    "        raise ValueError(\"No Linear layer found in model.fc.\")\n",
    "    else:\n",
    "        raise TypeError(\"Unsupported classifier structure.\")\n",
    "\n",
    "# Patch the method onto the model instance\n",
    "resnet_cifar.get_classifier = types.MethodType(get_classifier, resnet_cifar)"
   ]
  },
  {
   "cell_type": "markdown",
   "id": "06efec65-2944-4819-9f20-076dfe869cdc",
   "metadata": {},
   "source": [
    "## Training the classifier\n",
    "\n",
    "Since we have replaced the classification head in the pretrained model with our own classification layer, we need to train the classification head. "
   ]
  },
  {
   "cell_type": "markdown",
   "id": "ac52fb11-8190-44c3-8949-d38be3513f76",
   "metadata": {},
   "source": [
    "### PyTorch Lightning: A Framework for Model Training\n",
    "\n",
    "Check out [lightning.ai](lightning.ai)."
   ]
  },
  {
   "cell_type": "code",
   "execution_count": 11,
   "id": "4269b112-1744-4ddc-a537-9dddb0135dfd",
   "metadata": {},
   "outputs": [],
   "source": [
    "!pip install --quiet lightning\n",
    "!pip install --quiet seaborn\n",
    "!pip install --quiet tabulate"
   ]
  },
  {
   "cell_type": "code",
   "execution_count": 12,
   "id": "9c7e0c13-8f5d-4dcc-b0c2-7f8b9cf03f24",
   "metadata": {},
   "outputs": [],
   "source": [
    "import lightning as L\n",
    "import torch.nn as nn\n",
    "import torch.optim as optim\n",
    "import torch.utils.data as data\n",
    "import torchvision\n",
    "from torchvision import transforms\n",
    "\n",
    "import matplotlib\n",
    "import matplotlib.pyplot as plt\n",
    "import matplotlib_inline.backend_inline\n",
    "import numpy as np\n",
    "import seaborn as sns\n",
    "import tabulate\n",
    "from IPython.display import HTML, display\n",
    "from lightning.pytorch.callbacks import LearningRateMonitor, ModelCheckpoint\n",
    "from PIL import Image\n",
    "\n",
    "import os"
   ]
  },
  {
   "cell_type": "code",
   "execution_count": 13,
   "id": "6366a6b1-7ad2-433d-8cf0-d838c3575197",
   "metadata": {},
   "outputs": [
    {
     "name": "stderr",
     "output_type": "stream",
     "text": [
      "Seed set to 42\n"
     ]
    }
   ],
   "source": [
    "L.seed_everything(42)\n",
    "device = torch.device(\"cuda:0\") if torch.cuda.is_available() else torch.device(\"cpu\")"
   ]
  },
  {
   "cell_type": "markdown",
   "id": "1943d95a-f668-45a1-9925-9d54cb1af3e1",
   "metadata": {},
   "source": [
    "### CIFAR10 dataset"
   ]
  },
  {
   "cell_type": "code",
   "execution_count": 14,
   "id": "b8fb35d9-cc93-43ed-a241-b8a2e0e1caab",
   "metadata": {},
   "outputs": [],
   "source": [
    "DATASET_PATH = './data'\n",
    "CHECKPOINT_PATH = 'saved_models'"
   ]
  },
  {
   "cell_type": "markdown",
   "id": "dbb191d6-3118-475d-b6de-e0e4643ada9b",
   "metadata": {},
   "source": [
    "#### Computing mean and standard deviation"
   ]
  },
  {
   "cell_type": "code",
   "execution_count": 15,
   "id": "c8587bc5-08a4-4448-bb17-7a9844badd2a",
   "metadata": {},
   "outputs": [
    {
     "name": "stdout",
     "output_type": "stream",
     "text": [
      "Files already downloaded and verified\n",
      "Data mean [0.49139968 0.48215841 0.44653091]\n",
      "Data std [0.24703223 0.24348513 0.26158784]\n"
     ]
    }
   ],
   "source": [
    "train_dataset = torchvision.datasets.CIFAR10(root='./data', train=True, download=True)\n",
    "\n",
    "data_mean = (train_dataset.data / 255.0).mean(axis=(0, 1, 2))\n",
    "data_std = (train_dataset.data / 255.0).std(axis=(0, 1, 2))\n",
    "print(\"Data mean\", data_mean)\n",
    "print(\"Data std\", data_std)"
   ]
  },
  {
   "cell_type": "markdown",
   "id": "450777f7-2a85-465c-9f15-d744d6c5f83e",
   "metadata": {},
   "source": [
    "#### Transformations\n",
    "\n",
    "- Data augmentation for training data"
   ]
  },
  {
   "cell_type": "code",
   "execution_count": 16,
   "id": "c6833792-c02b-4ccc-abbb-d5dfddc979a7",
   "metadata": {},
   "outputs": [],
   "source": [
    "# For training, we add some augmentation. Networks are too powerful and would overfit.\n",
    "train_transform = transforms.Compose(\n",
    "    [\n",
    "        transforms.RandomHorizontalFlip(),\n",
    "        transforms.RandomResizedCrop((32, 32), scale=(0.8, 1.0), ratio=(0.9, 1.1)),\n",
    "        transforms.ToTensor(),\n",
    "        transforms.Normalize(data_mean, data_std),\n",
    "    ]\n",
    ")\n",
    "\n",
    "# No data augmentation for testing\n",
    "test_transform = transforms.Compose([transforms.ToTensor(), transforms.Normalize(data_mean, data_std)])"
   ]
  },
  {
   "cell_type": "markdown",
   "id": "9c6049ae-a457-43d1-8479-459319b6653d",
   "metadata": {},
   "source": [
    "#### Datasets: train, validation, and test"
   ]
  },
  {
   "cell_type": "code",
   "execution_count": 17,
   "id": "6f4d66cd-564c-45d0-b2db-a61f7c35ba20",
   "metadata": {},
   "outputs": [
    {
     "name": "stdout",
     "output_type": "stream",
     "text": [
      "Files already downloaded and verified\n",
      "Files already downloaded and verified\n",
      "Files already downloaded and verified\n"
     ]
    }
   ],
   "source": [
    "train_dataset = torchvision.datasets.CIFAR10(root=DATASET_PATH, train=True, transform=train_transform, download=True)\n",
    "\n",
    "# Note that validation dataset doesn't use augmentations applied to the training dataset\n",
    "val_dataset = torchvision.datasets.CIFAR10(root=DATASET_PATH, train=True, transform=test_transform, download=True)\n",
    "\n",
    "train_set, _ = torch.utils.data.random_split(train_dataset, [45000, 5000])\n",
    "_, val_set = torch.utils.data.random_split(val_dataset, [45000, 5000])\n",
    "\n",
    "test_set = torchvision.datasets.CIFAR10(root=DATASET_PATH, train=False, transform=test_transform, download=True) "
   ]
  },
  {
   "cell_type": "markdown",
   "id": "a7b3edc6-0f28-45bd-b5b9-a0006a56dc3e",
   "metadata": {},
   "source": [
    "#### Dataloaders\n",
    "\n",
    "Feeding data to our model(s)"
   ]
  },
  {
   "cell_type": "code",
   "execution_count": 18,
   "id": "577da698-14b5-43d4-a765-6ae9a8630a80",
   "metadata": {},
   "outputs": [],
   "source": [
    "train_loader = data.DataLoader(train_set, batch_size=128, shuffle=True, drop_last=True, pin_memory=True, num_workers=4, persistent_workers=True)\n",
    "val_loader = data.DataLoader(val_set, batch_size=128, shuffle=False, drop_last=False, num_workers=4, persistent_workers=True)\n",
    "test_loader = data.DataLoader(test_set, batch_size=128, shuffle=False, drop_last=False, num_workers=4, persistent_workers=True)"
   ]
  },
  {
   "cell_type": "markdown",
   "id": "e140acef-cea7-4b92-a4f9-bbf7d5b1594e",
   "metadata": {},
   "source": [
    "#### Displaying some images"
   ]
  },
  {
   "cell_type": "code",
   "execution_count": 19,
   "id": "4d549958-cebf-496e-a927-e2ed56fcb20e",
   "metadata": {
    "scrolled": true
   },
   "outputs": [
    {
     "data": {
      "image/png": "[encoded data removed]",
      "text/plain": [
       "<Figure size 800x800 with 1 Axes>"
      ]
     },
     "metadata": {},
     "output_type": "display_data"
    }
   ],
   "source": [
    "NUM_IMAGES = 4\n",
    "images = [train_dataset[idx][0] for idx in range(NUM_IMAGES)]\n",
    "orig_images = [Image.fromarray(train_dataset.data[idx]) for idx in range(NUM_IMAGES)]\n",
    "orig_images = [test_transform(img) for img in orig_images]\n",
    "\n",
    "img_grid = torchvision.utils.make_grid(torch.stack(images + orig_images, dim=0), nrow=4, normalize=True, pad_value=0.5)\n",
    "img_grid = img_grid.permute(1, 2, 0)\n",
    "\n",
    "plt.figure(figsize=(8, 8))\n",
    "plt.title(\"Augmentation examples on CIFAR10\")\n",
    "plt.imshow(img_grid)\n",
    "plt.axis(\"off\")\n",
    "plt.show()\n",
    "plt.close()"
   ]
  },
  {
   "cell_type": "markdown",
   "id": "a5550244-5d9c-4a41-ac48-91a2cf84e080",
   "metadata": {},
   "source": [
    "### Constructing a `LightningModule` "
   ]
  },
  {
   "cell_type": "code",
   "execution_count": 20,
   "id": "0cec228e-dcb5-4bca-b32b-64bd1ca862d0",
   "metadata": {},
   "outputs": [],
   "source": [
    "class CIFARModule(L.LightningModule):\n",
    "    def __init__(self, model, model_hparams, optimizer_hparams):\n",
    "        super().__init__()\n",
    "        self.save_hyperparameters()\n",
    "\n",
    "        num_in_features = resnet_cifar.get_classifier().in_features\n",
    "\n",
    "        model.fc = nn.Sequential(\n",
    "            nn.BatchNorm1d(num_in_features),\n",
    "            nn.Linear(num_in_features, 1024),\n",
    "            nn.ReLU(),\n",
    "            nn.BatchNorm1d(1024),\n",
    "            nn.Dropout(0.5),\n",
    "            nn.Linear(1024, 10)\n",
    "        )\n",
    "\n",
    "        self.model = model\n",
    "\n",
    "        for param in self.model.parameters():\n",
    "            param.requires_grad = False\n",
    "\n",
    "        for param in self.model.fc.parameters():\n",
    "            param.requires_grad = True\n",
    "\n",
    "        self.loss_module = nn.CrossEntropyLoss()\n",
    "        self.example_input_array = torch.zeros((1, 3, 32, 32), dtype=torch.float32)\n",
    "\n",
    "    def forward(self, imgs):\n",
    "        return self.model(imgs)\n",
    "\n",
    "    def configure_optimizers(self):\n",
    "        optimizer = optim.AdamW(self.model.fc.parameters(), **self.hparams.optimizer_hparams)\n",
    "        scheduler = optim.lr_scheduler.MultiStepLR(optimizer, milestones=[100, 150], gamma=0.1)\n",
    "        return [optimizer], [scheduler]\n",
    "\n",
    "    def training_step(self, batch, batch_idx):\n",
    "        imgs, labels = batch\n",
    "        preds = self.model(imgs)\n",
    "        loss = self.loss_module(preds, labels)\n",
    "        acc = (preds.argmax(dim=-1) == labels).float().mean()\n",
    "\n",
    "        self.log(\"train_acc\", acc, on_step=False, on_epoch=True)\n",
    "        self.log(\"train_loss\", loss)\n",
    "        return loss\n",
    "\n",
    "    def validation_step(self, batch, batch_idx):\n",
    "        imgs, labels = batch\n",
    "        preds = self.model(imgs).argmax(dim=-1)\n",
    "        acc = (labels == preds).float().mean()\n",
    "        self.log(\"val_acc\", acc)\n",
    "\n",
    "    def test_step(self, batch, batch_idx):\n",
    "        imgs, labels = batch\n",
    "        preds = self.model(imgs).argmax(dim=-1)\n",
    "        acc = (labels == preds).float().mean()\n",
    "        self.log(\"test_acc\", acc)\n"
   ]
  },
  {
   "cell_type": "markdown",
   "id": "b3862a4d-1c57-4cfb-9fcf-fdc936d030aa",
   "metadata": {},
   "source": [
    "### Training method\n",
    "\n",
    "This methods includes the training, validation, test logic."
   ]
  },
  {
   "cell_type": "code",
   "execution_count": 21,
   "id": "8727119e-3378-4f05-93d2-3f799fe93de7",
   "metadata": {},
   "outputs": [],
   "source": [
    "def train_model(model, save_name='resnet', epochs=2, **kwargs):\n",
    "\n",
    "    # Create a PyTorch Lightning trainer with the generation callback\n",
    "    trainer = L.Trainer(\n",
    "        default_root_dir=os.path.join(CHECKPOINT_PATH, save_name),  # Where to save models\n",
    "        # We run on a single GPU (if possible)\n",
    "        accelerator=\"auto\",\n",
    "        devices=1,\n",
    "        # How many epochs to train for if no patience is set\n",
    "        max_epochs=epochs,\n",
    "        callbacks=[\n",
    "            ModelCheckpoint(\n",
    "                save_weights_only=True, mode=\"max\", monitor=\"val_acc\"\n",
    "            ),  # Save the best checkpoint based on the maximum val_acc recorded. Saves only weights and not optimizer\n",
    "            LearningRateMonitor(\"epoch\"),\n",
    "        ],  # Log learning rate every epoch\n",
    "    )  # In case your notebook crashes due to the progress bar, consider increasing the refresh rate\n",
    "    trainer.logger._log_graph = True  # If True, we plot the computation graph in tensorboard\n",
    "    trainer.logger._default_hp_metric = None  # Optional logging argument that we don't need\n",
    "\n",
    "    # Check whether pretrained model exists. If yes, load it and skip training\n",
    "    pretrained_filename = os.path.join(CHECKPOINT_PATH, save_name + \".ckpt\")\n",
    "    if os.path.isfile(pretrained_filename):\n",
    "        print(f\"Found pretrained model at {pretrained_filename}, loading...\")\n",
    "        # Automatically loads the model with the saved hyperparameters\n",
    "        lightning_model = CIFARModule.load_from_checkpoint(pretrained_filename)\n",
    "    else:\n",
    "        print(\"No checkpoint found\")\n",
    "        L.seed_everything(42)  # To be reproducible\n",
    "        lightning_model = CIFARModule(model, **kwargs)\n",
    "        trainer.fit(lightning_model, train_loader, val_loader)\n",
    "        lightning_model = CIFARModule.load_from_checkpoint(\n",
    "            trainer.checkpoint_callback.best_model_path\n",
    "        )  # Load best checkpoint after training\n",
    "\n",
    "    # Test best model on validation and test set\n",
    "    val_result = trainer.test(lightning_model, dataloaders=val_loader, verbose=False)\n",
    "    test_result = trainer.test(lightning_model, dataloaders=test_loader, verbose=False)\n",
    "    result = {\"test\": test_result[0][\"test_acc\"], \"val\": val_result[0][\"test_acc\"]}\n",
    "\n",
    "    return model, result"
   ]
  },
  {
   "cell_type": "markdown",
   "id": "f29062b5-6abc-4920-8989-ba0dcef510b1",
   "metadata": {},
   "source": [
    "### Now train"
   ]
  },
  {
   "cell_type": "code",
   "execution_count": 22,
   "id": "1442e09d-9d3e-40a3-988f-5c93fad79f5a",
   "metadata": {},
   "outputs": [
    {
     "name": "stderr",
     "output_type": "stream",
     "text": [
      "GPU available: True (cuda), used: True\n",
      "TPU available: False, using: 0 TPU cores\n",
      "HPU available: False, using: 0 HPUs\n",
      "Seed set to 42\n",
      "C:\\Users\\Jason\\AppData\\Local\\Programs\\Python\\Python312\\Lib\\site-packages\\lightning\\pytorch\\utilities\\parsing.py:209: Attribute 'model' is an instance of `nn.Module` and is already saved during checkpointing. It is recommended to ignore them using `self.save_hyperparameters(ignore=['model'])`.\n",
      "You are using a CUDA device ('NVIDIA GeForce RTX 3060 Laptop GPU') that has Tensor Cores. To properly utilize them, you should set `torch.set_float32_matmul_precision('medium' | 'high')` which will trade-off precision for performance. For more details, read https://pytorch.org/docs/stable/generated/torch.set_float32_matmul_precision.html#torch.set_float32_matmul_precision\n"
     ]
    },
    {
     "name": "stdout",
     "output_type": "stream",
     "text": [
      "No checkpoint found\n"
     ]
    },
    {
     "name": "stderr",
     "output_type": "stream",
     "text": [
      "LOCAL_RANK: 0 - CUDA_VISIBLE_DEVICES: [0]\n",
      "\n",
      "  | Name        | Type             | Params | Mode  | In sizes       | Out sizes\n",
      "--------------------------------------------------------------------------------------\n",
      "0 | model       | ResNet           | 21.8 M | train | [1, 3, 32, 32] | [1, 10]  \n",
      "1 | loss_module | CrossEntropyLoss | 0      | train | ?              | ?        \n",
      "--------------------------------------------------------------------------------------\n",
      "538 K     Trainable params\n",
      "21.3 M    Non-trainable params\n",
      "21.8 M    Total params\n",
      "87.293    Total estimated model params size (MB)\n",
      "173       Modules in train mode\n",
      "0         Modules in eval mode\n"
     ]
    },
    {
     "data": {
      "application/vnd.jupyter.widget-view+json": {
       "model_id": "",
       "version_major": 2,
       "version_minor": 0
      },
      "text/plain": [
       "Sanity Checking: |                                                                               | 0/? [00:00<…"
      ]
     },
     "metadata": {},
     "output_type": "display_data"
    },
    {
     "data": {
      "application/vnd.jupyter.widget-view+json": {
       "model_id": "8da4124cc17d4c8283ebf06ad4e576ef",
       "version_major": 2,
       "version_minor": 0
      },
      "text/plain": [
       "Training: |                                                                                      | 0/? [00:00<…"
      ]
     },
     "metadata": {},
     "output_type": "display_data"
    },
    {
     "data": {
      "application/vnd.jupyter.widget-view+json": {
       "model_id": "",
       "version_major": 2,
       "version_minor": 0
      },
      "text/plain": [
       "Validation: |                                                                                    | 0/? [00:00<…"
      ]
     },
     "metadata": {},
     "output_type": "display_data"
    },
    {
     "data": {
      "application/vnd.jupyter.widget-view+json": {
       "model_id": "",
       "version_major": 2,
       "version_minor": 0
      },
      "text/plain": [
       "Validation: |                                                                                    | 0/? [00:00<…"
      ]
     },
     "metadata": {},
     "output_type": "display_data"
    },
    {
     "data": {
      "application/vnd.jupyter.widget-view+json": {
       "model_id": "",
       "version_major": 2,
       "version_minor": 0
      },
      "text/plain": [
       "Validation: |                                                                                    | 0/? [00:00<…"
      ]
     },
     "metadata": {},
     "output_type": "display_data"
    },
    {
     "data": {
      "application/vnd.jupyter.widget-view+json": {
       "model_id": "",
       "version_major": 2,
       "version_minor": 0
      },
      "text/plain": [
       "Validation: |                                                                                    | 0/? [00:00<…"
      ]
     },
     "metadata": {},
     "output_type": "display_data"
    },
    {
     "data": {
      "application/vnd.jupyter.widget-view+json": {
       "model_id": "",
       "version_major": 2,
       "version_minor": 0
      },
      "text/plain": [
       "Validation: |                                                                                    | 0/? [00:00<…"
      ]
     },
     "metadata": {},
     "output_type": "display_data"
    },
    {
     "data": {
      "application/vnd.jupyter.widget-view+json": {
       "model_id": "",
       "version_major": 2,
       "version_minor": 0
      },
      "text/plain": [
       "Validation: |                                                                                    | 0/? [00:00<…"
      ]
     },
     "metadata": {},
     "output_type": "display_data"
    },
    {
     "data": {
      "application/vnd.jupyter.widget-view+json": {
       "model_id": "",
       "version_major": 2,
       "version_minor": 0
      },
      "text/plain": [
       "Validation: |                                                                                    | 0/? [00:00<…"
      ]
     },
     "metadata": {},
     "output_type": "display_data"
    },
    {
     "data": {
      "application/vnd.jupyter.widget-view+json": {
       "model_id": "",
       "version_major": 2,
       "version_minor": 0
      },
      "text/plain": [
       "Validation: |                                                                                    | 0/? [00:00<…"
      ]
     },
     "metadata": {},
     "output_type": "display_data"
    },
    {
     "data": {
      "application/vnd.jupyter.widget-view+json": {
       "model_id": "",
       "version_major": 2,
       "version_minor": 0
      },
      "text/plain": [
       "Validation: |                                                                                    | 0/? [00:00<…"
      ]
     },
     "metadata": {},
     "output_type": "display_data"
    },
    {
     "data": {
      "application/vnd.jupyter.widget-view+json": {
       "model_id": "",
       "version_major": 2,
       "version_minor": 0
      },
      "text/plain": [
       "Validation: |                                                                                    | 0/? [00:00<…"
      ]
     },
     "metadata": {},
     "output_type": "display_data"
    },
    {
     "data": {
      "application/vnd.jupyter.widget-view+json": {
       "model_id": "",
       "version_major": 2,
       "version_minor": 0
      },
      "text/plain": [
       "Validation: |                                                                                    | 0/? [00:00<…"
      ]
     },
     "metadata": {},
     "output_type": "display_data"
    },
    {
     "data": {
      "application/vnd.jupyter.widget-view+json": {
       "model_id": "",
       "version_major": 2,
       "version_minor": 0
      },
      "text/plain": [
       "Validation: |                                                                                    | 0/? [00:00<…"
      ]
     },
     "metadata": {},
     "output_type": "display_data"
    },
    {
     "data": {
      "application/vnd.jupyter.widget-view+json": {
       "model_id": "",
       "version_major": 2,
       "version_minor": 0
      },
      "text/plain": [
       "Validation: |                                                                                    | 0/? [00:00<…"
      ]
     },
     "metadata": {},
     "output_type": "display_data"
    },
    {
     "data": {
      "application/vnd.jupyter.widget-view+json": {
       "model_id": "",
       "version_major": 2,
       "version_minor": 0
      },
      "text/plain": [
       "Validation: |                                                                                    | 0/? [00:00<…"
      ]
     },
     "metadata": {},
     "output_type": "display_data"
    },
    {
     "data": {
      "application/vnd.jupyter.widget-view+json": {
       "model_id": "",
       "version_major": 2,
       "version_minor": 0
      },
      "text/plain": [
       "Validation: |                                                                                    | 0/? [00:00<…"
      ]
     },
     "metadata": {},
     "output_type": "display_data"
    },
    {
     "data": {
      "application/vnd.jupyter.widget-view+json": {
       "model_id": "",
       "version_major": 2,
       "version_minor": 0
      },
      "text/plain": [
       "Validation: |                                                                                    | 0/? [00:00<…"
      ]
     },
     "metadata": {},
     "output_type": "display_data"
    },
    {
     "data": {
      "application/vnd.jupyter.widget-view+json": {
       "model_id": "",
       "version_major": 2,
       "version_minor": 0
      },
      "text/plain": [
       "Validation: |                                                                                    | 0/? [00:00<…"
      ]
     },
     "metadata": {},
     "output_type": "display_data"
    },
    {
     "data": {
      "application/vnd.jupyter.widget-view+json": {
       "model_id": "",
       "version_major": 2,
       "version_minor": 0
      },
      "text/plain": [
       "Validation: |                                                                                    | 0/? [00:00<…"
      ]
     },
     "metadata": {},
     "output_type": "display_data"
    },
    {
     "data": {
      "application/vnd.jupyter.widget-view+json": {
       "model_id": "",
       "version_major": 2,
       "version_minor": 0
      },
      "text/plain": [
       "Validation: |                                                                                    | 0/? [00:00<…"
      ]
     },
     "metadata": {},
     "output_type": "display_data"
    },
    {
     "data": {
      "application/vnd.jupyter.widget-view+json": {
       "model_id": "",
       "version_major": 2,
       "version_minor": 0
      },
      "text/plain": [
       "Validation: |                                                                                    | 0/? [00:00<…"
      ]
     },
     "metadata": {},
     "output_type": "display_data"
    },
    {
     "name": "stderr",
     "output_type": "stream",
     "text": [
      "`Trainer.fit` stopped: `max_epochs=20` reached.\n",
      "LOCAL_RANK: 0 - CUDA_VISIBLE_DEVICES: [0]\n"
     ]
    },
    {
     "data": {
      "application/vnd.jupyter.widget-view+json": {
       "model_id": "bad533e7c31f4a8da29cd412f21b3f53",
       "version_major": 2,
       "version_minor": 0
      },
      "text/plain": [
       "Testing: |                                                                                       | 0/? [00:00<…"
      ]
     },
     "metadata": {},
     "output_type": "display_data"
    },
    {
     "name": "stderr",
     "output_type": "stream",
     "text": [
      "LOCAL_RANK: 0 - CUDA_VISIBLE_DEVICES: [0]\n"
     ]
    },
    {
     "data": {
      "application/vnd.jupyter.widget-view+json": {
       "model_id": "f7c4a0148ce548cf9410e880bafc34bd",
       "version_major": 2,
       "version_minor": 0
      },
      "text/plain": [
       "Testing: |                                                                                       | 0/? [00:00<…"
      ]
     },
     "metadata": {},
     "output_type": "display_data"
    },
    {
     "name": "stdout",
     "output_type": "stream",
     "text": [
      "Final Test Accuracy: 0.4575\n",
      "Final Val Accuracy: 0.4832\n"
     ]
    }
   ],
   "source": [
    "model_hparams = {}\n",
    "optimizer_hparams = {\"lr\": 1e-3, \"weight_decay\": 1e-4}\n",
    "\n",
    "trained_model, result = train_model(resnet_cifar, model_hparams=model_hparams, optimizer_hparams=optimizer_hparams, epochs=20)\n",
    "\n",
    "print(f\"Final Test Accuracy: {result['test']:.4f}\")\n",
    "print(f\"Final Val Accuracy: {result['val']:.4f}\")"
   ]
  },
  {
   "cell_type": "markdown",
   "id": "1fb68737-b611-4989-b5c6-b47250343e9b",
   "metadata": {},
   "source": [
    "## Plot Accuracy Results"
   ]
  },
  {
   "cell_type": "code",
   "execution_count": 23,
   "id": "08ab4ce0-c4c6-47dc-927e-f4b7d0c05fa3",
   "metadata": {},
   "outputs": [
    {
     "data": {
      "image/png": "[encoded data removed]",
      "text/plain": [
       "<Figure size 800x500 with 1 Axes>"
      ]
     },
     "metadata": {},
     "output_type": "display_data"
    }
   ],
   "source": [
    "from tensorboard.backend.event_processing import event_accumulator\n",
    "import matplotlib.pyplot as plt\n",
    "import os\n",
    "import re\n",
    "\n",
    "# Get the latest version folder inside lightning_logs\n",
    "base_log_dir = os.path.join(CHECKPOINT_PATH, \"resnet\", \"lightning_logs\")\n",
    "version_dirs = [d for d in os.listdir(base_log_dir) if re.match(r\"version_\\d+\", d)]\n",
    "\n",
    "if not version_dirs:\n",
    "    print(\"No version directories found.\")\n",
    "else:\n",
    "    # Sort by version number (integer suffix)\n",
    "    version_dirs.sort(key=lambda x: int(x.split(\"_\")[1]))\n",
    "    latest_version = version_dirs[-1]\n",
    "    log_dir = os.path.join(base_log_dir, latest_version)\n",
    "\n",
    "    # Find the latest event file\n",
    "    event_file = None\n",
    "    for file in os.listdir(log_dir):\n",
    "        if file.startswith(\"events.out\"):\n",
    "            event_file = os.path.join(log_dir, file)\n",
    "            break\n",
    "\n",
    "    if event_file:\n",
    "        ea = event_accumulator.EventAccumulator(event_file)\n",
    "        ea.Reload()\n",
    "\n",
    "        available_tags = ea.Tags()[\"scalars\"]\n",
    "\n",
    "        def plot_metric(tag, label):\n",
    "            if tag in available_tags:\n",
    "                events = ea.Scalars(tag)\n",
    "                steps = [e.step for e in events]\n",
    "                values = [e.value for e in events]\n",
    "                plt.plot(steps, values, label=label)\n",
    "            else:\n",
    "                print(f\"Skipping {tag}: Not found in logs\")\n",
    "\n",
    "        plt.figure(figsize=(8, 5))\n",
    "        plot_metric(\"val_acc\", \"Validation Accuracy\")\n",
    "        plot_metric(\"train_acc\", \"Train Accuracy\")\n",
    "        plt.xlabel(\"Epoch\")\n",
    "        plt.ylabel(\"Accuracy\")\n",
    "        plt.title(f\"Accuracy over Training ({latest_version})\")\n",
    "        plt.legend()\n",
    "        plt.grid(True)\n",
    "        plt.show()\n",
    "    else:\n",
    "        print(\"No events file found in:\", log_dir)"
   ]
  },
  {
   "cell_type": "markdown",
   "id": "87171849-8425-4cfb-8d1f-c008860c2902",
   "metadata": {},
   "source": [
    "## Classification"
   ]
  },
  {
   "cell_type": "code",
   "execution_count": 24,
   "id": "1c9fd19b-eb34-4d5c-a1b9-6bbb2c790bc0",
   "metadata": {},
   "outputs": [],
   "source": [
    "from torchvision import transforms\n",
    "import torch.nn.functional as F\n",
    "\n",
    "# CIFAR-10 class labels\n",
    "CIFAR10_LABELS = [\n",
    "    \"airplane\", \"automobile\", \"bird\", \"cat\", \"deer\",\n",
    "    \"dog\", \"frog\", \"horse\", \"ship\", \"truck\"\n",
    "]\n",
    "\n",
    "# Preprocessing: CIFAR-10 style\n",
    "cifar_transform = transforms.Compose([\n",
    "    transforms.Resize((32, 32)),\n",
    "    transforms.ToTensor(),\n",
    "    transforms.Normalize(mean=[0.4914, 0.4822, 0.4465],\n",
    "                         std=[0.2023, 0.1994, 0.2010]),\n",
    "])\n",
    "\n",
    "def classify(image_files):\n",
    "    # Load model from checkpoint\n",
    "    ckpt_path = os.path.join(log_dir, \"checkpoints\", \"epoch=1-step=702.ckpt\")\n",
    "    if not os.path.exists(ckpt_path):\n",
    "        print(\"Checkpoint not found!\")\n",
    "        return\n",
    "    \n",
    "    model = CIFARModule.load_from_checkpoint(ckpt_path)\n",
    "    model.eval()\n",
    "\n",
    "    with torch.no_grad():\n",
    "        print(\"Classification results:\")\n",
    "        for img_path in image_files:\n",
    "            try:\n",
    "                image = Image.open(img_path).convert(\"RGB\")\n",
    "                input_tensor = cifar_transform(image).unsqueeze(0)\n",
    "                with torch.no_grad():\n",
    "                    device = next(model.parameters()).device\n",
    "                    output = model(input_tensor.to(device))\n",
    "                    pred_idx = output.argmax(dim=1).item()\n",
    "                    pred_label = CIFAR10_LABELS[pred_idx]\n",
    "                    basename = os.path.basename(filename)\n",
    "                    true_label_i = int(basename.split(\"_\")[2].split(\".\")[0])\n",
    "                    true_label = CIFAR10_LABELS[true_label_i]\n",
    "                    \n",
    "                    print(f\"{basename} {pred_label} {true_label}\")\n",
    "            except Exception as e:\n",
    "                print(f\"Error with {img_path}: {e}\")"
   ]
  },
  {
   "cell_type": "code",
   "execution_count": 25,
   "id": "7596b426-f0da-460b-9a39-de16aca8ce61",
   "metadata": {},
   "outputs": [
    {
     "name": "stdout",
     "output_type": "stream",
     "text": [
      "Saving test images:\n",
      "\n",
      "Running classify() on saved images:\n",
      "Checkpoint not found!\n"
     ]
    }
   ],
   "source": [
    "test_img_dir = \"sample_cifar_images\"\n",
    "os.makedirs(test_img_dir, exist_ok=True)\n",
    "\n",
    "N = 5\n",
    "image_files = []\n",
    "print(\"Saving test images:\")\n",
    "for i in range(N):\n",
    "    img, label = test_set[i]\n",
    "    filename = f\"{test_img_dir}/img_{i}_{label}.png\"\n",
    "    transforms.ToPILImage()(img).save(filename)\n",
    "    image_files.append(filename)\n",
    "\n",
    "# Call your classifier\n",
    "print(\"\\nRunning classify() on saved images:\")\n",
    "classify(image_files)"
   ]
  },
  {
   "cell_type": "markdown",
   "id": "389fa7d3-8432-49e5-89a3-62459a5c9291",
   "metadata": {},
   "source": [
    "<h2 style=\"color: blue;\">Complete the following tasks</h2>"
   ]
  },
  {
   "cell_type": "markdown",
   "id": "d0a4222b-bc2f-4bd4-b1cc-257c9b1840bb",
   "metadata": {},
   "source": [
    "**1.** Modify the `train_model` function to take the number of epochs as an argument.\n",
    "\n",
    "**2.** Train the model for at least 20 epochs and plot the validation and test accuracies.\n",
    "\n",
    "Look at `saved_models/resnet/lightning_logs` for the this information.\n",
    "   \n",
    "**3.** Modify the `train_model` function to load the model from *checkpoint*\n",
    "\n",
    "**4.** Write a function that uses the model trained in step 2 to perform inference in a list of images.  The function prints the list of images alongside their true and predicted labels.  We can use this function as follows:\n",
    "\n",
    "~~~python\n",
    "image_files = [\"1.png\", \"2.png\"]\n",
    "classify(image_files)\n",
    "~~~\n",
    "\n",
    "The output of this program will look similar to \n",
    "~~~text\n",
    "Classification results:\n",
    "1.png dog dog\n",
    "2.png cat dog\n",
    "~~~\n",
    "     \n",
    "**5.** (Bonus) the current classification head consists of single fully-connected layer.  Let's replace it with a neural network with one hidden layer. This can be achieve by replacing the \"fc\" layer with a *sequence* of layers as seen in the following code snippet.\n",
    "\n",
    "~~~python\n",
    "model.fc = nn.Sequential(\n",
    "    nn.BatchNorm1d(num_in_features),\n",
    "    nn.Linear(in_features=num_in_features, out_features=1024, bias=True),\n",
    "    nn.ReLU(),\n",
    "    nn.BatchNorm1d(1024),\n",
    "    nn.Dropout(0.5)\n",
    "    nn.Linear(in_features=1024, out_features=10, bias=True)\n",
    ")\n",
    "~~~\n",
    "\n",
    "where `num_in_features` simply reflect feature size for the ResNet encoder.  You can find this information as follows\n",
    "\n",
    "~~~python\n",
    "num_in_features = resnet_cifar.get_classifier().in_features\n",
    "~~~\n",
    "\n"
   ]
  },
  {
   "cell_type": "markdown",
   "id": "2414b369-30ec-4509-a0c3-61ed717d6e6b",
   "metadata": {},
   "source": [
    "<div style=\"color: magenta;\">\n",
    "<h2>Jupyter notebook</h2>\n",
    "\n",
    "Source notebook is available <a href=\"05a-resnet-lab.ipynb\">here</a>.\n",
    "</div>"
   ]
  },
  {
   "cell_type": "markdown",
   "id": "520e8547-be60-4895-96f6-3ed2ba29298a",
   "metadata": {},
   "source": [
    "## GPU resources"
   ]
  },
  {
   "cell_type": "markdown",
   "id": "b91e8a3d-e930-46de-9c79-f505b83c9875",
   "metadata": {},
   "source": [
    "(Experimental) You can use the GPU resources available at [https://hubdev.science.ontariotechu.ca/](https://hubdev.science.ontariotechu.ca/) to complete your lab. "
   ]
  },
  {
   "cell_type": "markdown",
   "id": "c96b18cb-77f8-4f90-b2be-2195355e3a78",
   "metadata": {},
   "source": [
    "<center>\n",
    "    <tr>\n",
    "    <td><img src=\"ontario-tech-univ-logo.png\" width=\"25%\"></img></td>\n",
    "    </tr>\n",
    "</center>"
   ]
  }
 ],
 "metadata": {
  "kernelspec": {
   "display_name": "Python 3 (ipykernel)",
   "language": "python",
   "name": "python3"
  },
  "language_info": {
   "codemirror_mode": {
    "name": "ipython",
    "version": 3
   },
   "file_extension": ".py",
   "mimetype": "text/x-python",
   "name": "python",
   "nbconvert_exporter": "python",
   "pygments_lexer": "ipython3",
   "version": "3.12.4"
  }
 },
 "nbformat": 4,
 "nbformat_minor": 5
}
